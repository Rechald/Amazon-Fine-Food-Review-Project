{
 "cells": [
  {
   "cell_type": "markdown",
   "metadata": {},
   "source": [
    "# Ziyao Chen HW2 "
   ]
  },
  {
   "cell_type": "markdown",
   "metadata": {},
   "source": [
    "## Q1"
   ]
  },
  {
   "cell_type": "code",
   "execution_count": 1,
   "metadata": {},
   "outputs": [],
   "source": [
    "import numpy\n",
    "from urllib.request import urlopen\n",
    "import scipy.optimize\n",
    "import random\n",
    "from math import exp\n",
    "from math import log"
   ]
  },
  {
   "cell_type": "code",
   "execution_count": 2,
   "metadata": {},
   "outputs": [
    {
     "name": "stdout",
     "output_type": "stream",
     "text": [
      "Reading data...\n",
      "done\n"
     ]
    }
   ],
   "source": [
    "def parseData(fname):\n",
    "    for l in urlopen(fname):\n",
    "        yield eval(l)\n",
    "\n",
    "print(\"Reading data...\")\n",
    "data = list(parseData(\"http://jmcauley.ucsd.edu/cse190/data/beer/beer_50000.json\"))\n",
    "print(\"done\")"
   ]
  },
  {
   "cell_type": "code",
   "execution_count": 3,
   "metadata": {},
   "outputs": [],
   "source": [
    "import random\n",
    "random.shuffle(data)\n",
    "train_data = data[:int(len(data)/3)]\n",
    "valid_data = data[int(len(data)/3):int(len(data)/3)*2]\n",
    "test_data = data[int(len(data)/3)*2:]"
   ]
  },
  {
   "cell_type": "code",
   "execution_count": 4,
   "metadata": {},
   "outputs": [],
   "source": [
    "def feature(datum):\n",
    "    feat = [1, datum['review/taste'], datum['review/appearance'], datum['review/aroma'], datum['review/palate'], datum['review/overall']]\n",
    "    return feat\n",
    "\n",
    "X = [feature(d) for d in train_data]\n",
    "y = [d['beer/ABV'] >= 6.5 for d in train_data]\n",
    "\n",
    "def inner(x,y):\n",
    "    return sum([int(x[i])*int(y[i]) for i in range(len(x))])\n",
    "\n",
    "def sigmoid(x):\n",
    "    return 1.0 / (1 + exp(-x))"
   ]
  },
  {
   "cell_type": "markdown",
   "metadata": {},
   "source": [
    "Logistic regression by gradient ascent "
   ]
  },
  {
   "cell_type": "code",
   "execution_count": 5,
   "metadata": {},
   "outputs": [],
   "source": [
    "# NEGATIVE Log-likelihood\n",
    "def f(theta, X, y, lam):\n",
    "    loglikelihood = 0\n",
    "    for i in range(len(X)):\n",
    "        logit = inner(X[i], theta)\n",
    "        loglikelihood -= log(1 + exp(-logit))\n",
    "        if not y[i]:\n",
    "            loglikelihood -= logit\n",
    "    for k in range(len(theta)):\n",
    "        loglikelihood -= lam * theta[k]*theta[k]\n",
    "  # for debugging\n",
    "  # print(\"ll =\" + str(loglikelihood))\n",
    "    return -loglikelihood"
   ]
  },
  {
   "cell_type": "code",
   "execution_count": 6,
   "metadata": {},
   "outputs": [],
   "source": [
    "# NEGATIVE Derivative of log-likelihood\n",
    "def fprime(theta, X, y, lam):\n",
    "    dl = [0]*len(theta)\n",
    "    for i in range(len(X)):\n",
    "        logit = inner(X[i], theta)\n",
    "        for k in range(len(theta)):\n",
    "            dl[k] += X[i][k] * (1 - sigmoid(logit))\n",
    "            if not y[i]:\n",
    "                dl[k] -= X[i][k]\n",
    "    for k in range(len(theta)):\n",
    "        dl[k] -= lam*2*theta[k]\n",
    "    return numpy.array([-x for x in dl])\n",
    "\n",
    "X_train = X\n",
    "y_train = y"
   ]
  },
  {
   "cell_type": "markdown",
   "metadata": {},
   "source": [
    " Train "
   ]
  },
  {
   "cell_type": "code",
   "execution_count": 7,
   "metadata": {},
   "outputs": [],
   "source": [
    "def train(lam):\n",
    "    theta,_,_ = scipy.optimize.fmin_l_bfgs_b(f, [0]*len(X[0]), fprime, pgtol = 10, args = (X_train, y_train, lam))\n",
    "    return theta"
   ]
  },
  {
   "cell_type": "markdown",
   "metadata": {},
   "source": [
    "## test"
   ]
  },
  {
   "cell_type": "code",
   "execution_count": 8,
   "metadata": {},
   "outputs": [],
   "source": [
    "X1 = [feature(d) for d in test_data]\n",
    "y1 = [d['beer/ABV'] >= 6.5 for d in test_data]\n",
    "def performance(theta):\n",
    "    scores = [inner(theta,x) for x in X1]\n",
    "    predictions = [s > 0 for s in scores]\n",
    "    correct = [(a==b) for (a,b) in zip(predictions,y1)]\n",
    "    acc = sum(correct) * 1.0 / len(correct)\n",
    "    return acc"
   ]
  },
  {
   "cell_type": "code",
   "execution_count": 9,
   "metadata": {},
   "outputs": [
    {
     "name": "stdout",
     "output_type": "stream",
     "text": [
      "lambda = 1.0:\taccuracy=0.7206023518118551\n"
     ]
    }
   ],
   "source": [
    "lam = 1.0\n",
    "theta = train(lam)\n",
    "acc = performance(theta)\n",
    "print(\"lambda = \" + str(lam) + \":\\taccuracy=\" + str(acc))"
   ]
  },
  {
   "cell_type": "code",
   "execution_count": 10,
   "metadata": {},
   "outputs": [
    {
     "name": "stdout",
     "output_type": "stream",
     "text": [
      "The accuracy of the classifier on the test sets is 0.7206023518118551\n"
     ]
    }
   ],
   "source": [
    "print(\"The accuracy of the classifier on the test sets is\", str(acc))"
   ]
  },
  {
   "cell_type": "markdown",
   "metadata": {},
   "source": [
    "## validation"
   ]
  },
  {
   "cell_type": "code",
   "execution_count": 11,
   "metadata": {},
   "outputs": [],
   "source": [
    "X2 = [feature(d) for d in valid_data]\n",
    "y2 = [d['beer/ABV'] >= 6.5 for d in valid_data]\n",
    "def performancen(theta):\n",
    "    scores = [inner(theta,x) for x in X2]\n",
    "    predictions = [s > 0 for s in scores]\n",
    "    correct = [(a==b) for (a,b) in zip(predictions,y2)]\n",
    "    acc = sum(correct) * 1.0 / len(correct)\n",
    "    return acc"
   ]
  },
  {
   "cell_type": "code",
   "execution_count": 12,
   "metadata": {},
   "outputs": [
    {
     "name": "stdout",
     "output_type": "stream",
     "text": [
      "lambda = 1.0:\taccuracy=0.7173886955478219\n"
     ]
    }
   ],
   "source": [
    "lam = 1.0\n",
    "theta = train(lam)\n",
    "acc = performancen(theta)\n",
    "print(\"lambda = \" + str(lam) + \":\\taccuracy=\" + str(acc))"
   ]
  },
  {
   "cell_type": "code",
   "execution_count": 13,
   "metadata": {},
   "outputs": [
    {
     "name": "stdout",
     "output_type": "stream",
     "text": [
      "The accuracy of the classifier on the validation sets is 0.7173886955478219\n"
     ]
    }
   ],
   "source": [
    "print(\"The accuracy of the classifier on the validation sets is\", str(acc))"
   ]
  },
  {
   "cell_type": "markdown",
   "metadata": {},
   "source": [
    "# Q2 "
   ]
  },
  {
   "cell_type": "code",
   "execution_count": 14,
   "metadata": {},
   "outputs": [],
   "source": [
    "def tf(theta):\n",
    "    scores = [inner(theta,x) for x in X1]\n",
    "    predictions = [s > 0 for s in scores]\n",
    "    correct = [(a==b) for (a,b) in zip(predictions,y1)]\n",
    "    positives = sum(predictions)\n",
    "    negetives = len(predictions)-sum(predictions)\n",
    "    TP=[(a==1 and b==1) for (a,b) in zip(predictions,y1)]\n",
    "    FP=[(a==1 and b==0) for (a,b) in zip(predictions,y1)]\n",
    "    TN=[(a==0 and b==0) for (a,b) in zip(predictions,y1)]\n",
    "    FN=[(a==0 and b==1) for (a,b) in zip(predictions,y1)]\n",
    "    truepositives=sum(TP)\n",
    "    falsepositives=sum(FP)\n",
    "    truenegtives=sum(TN)\n",
    "    falsenegetives=sum(FN)\n",
    "    return positives,negetives,truepositives,falsepositives,truenegtives,falsenegetives"
   ]
  },
  {
   "cell_type": "code",
   "execution_count": 15,
   "metadata": {},
   "outputs": [],
   "source": [
    "lam = 1.0\n",
    "theta = train(lam)\n",
    "number=tf(theta)"
   ]
  },
  {
   "cell_type": "code",
   "execution_count": 16,
   "metadata": {},
   "outputs": [
    {
     "name": "stdout",
     "output_type": "stream",
     "text": [
      "The positives,negetives,true positives,false positives,true negtives and false negetives values are (12359, 4309, 9087, 3272, 2924, 1385)\n"
     ]
    }
   ],
   "source": [
    "print(\"The positives,negetives,true positives,false positives,true negtives and false negetives values are\", number)"
   ]
  },
  {
   "cell_type": "markdown",
   "metadata": {},
   "source": [
    "# Q3"
   ]
  },
  {
   "cell_type": "markdown",
   "metadata": {},
   "source": [
    "## When we are calculating False Positives, our prediction is y==1, but it is labeled as y==0.  When we are calculating False Negetives, our prediction is y==0, but it is labeled as y==1.  The total cost= c1*(y*log(h_theta(x))+c2*((1-y)*log(1-h_theta(x)), the first part is the cost for False Negetives and the second part is the cost for False Positives. If I wanted to assign 10 times as much importance to False Positives as compared to False Negatives, I assign the weight as c2/c1=10."
   ]
  },
  {
   "cell_type": "markdown",
   "metadata": {},
   "source": [
    "The specific modification I would make to the code is for the log-likelihood part. I reassign weight to the loglikelihood when y==1 ande y==0 so that my c2/c1 would be 10.\n",
    "If I obey the math calculation stricktly, I would revise the code as below:\n",
    "First, in the part of NEGATIVE Log-likelihood \"if not y[i]: loglikelihood = log(exp(logit)+1)*10\".\n",
    "Second, in the part of NEGATIVE Derivative of log-likelihood,\"if not y[i]: dl[k] = -(X[i][k]*exp(logit))*10/(1+exp(logit))\".\n",
    "\n",
    "If I wanna do a proximation of the math calculation, I would revise the code as below:\n",
    "First, in the part of NEGATIVE Log-likelihood \"if not y[i]: loglikelihood -= logit*10\".\n",
    "Second, in the part of NEGATIVE Derivative of log-likelihood,\"if not y[i]: dl[k] -= X[i][k]*10\".\n",
    "But since the result will show as math out of range, I would use a smaller number instead."
   ]
  },
  {
   "cell_type": "markdown",
   "metadata": {},
   "source": [
    "# Q4 "
   ]
  },
  {
   "cell_type": "markdown",
   "metadata": {},
   "source": [
    "# train"
   ]
  },
  {
   "cell_type": "code",
   "execution_count": 17,
   "metadata": {},
   "outputs": [],
   "source": [
    "def performancet(theta):\n",
    "    scores = [inner(theta,x) for x in X]\n",
    "    predictions = [s > 0 for s in scores]\n",
    "    correct = [(a==b) for (a,b) in zip(predictions,y)]\n",
    "    acc = sum(correct) * 1.0 / len(correct)\n",
    "    return acc"
   ]
  },
  {
   "cell_type": "code",
   "execution_count": 18,
   "metadata": {},
   "outputs": [],
   "source": [
    "lam=[0,0.01,0.1,1,100]\n",
    "for i in range(len(lam)):\n",
    "    theta = train(lam[i])\n",
    "    acc = performancet(theta)\n",
    "   # print(\"lambda = \" + str(lam[i]) + \":\\taccuracy=\" + str(acc))"
   ]
  },
  {
   "cell_type": "markdown",
   "metadata": {},
   "source": [
    "# valid"
   ]
  },
  {
   "cell_type": "code",
   "execution_count": 19,
   "metadata": {},
   "outputs": [
    {
     "name": "stdout",
     "output_type": "stream",
     "text": [
      "lambda = 0:\taccuracy=0.718648745949838\n",
      "lambda = 0.01:\taccuracy=0.718708748349934\n",
      "lambda = 0.1:\taccuracy=0.7183487339493579\n",
      "lambda = 1:\taccuracy=0.7173886955478219\n",
      "lambda = 100:\taccuracy=0.6687867514700588\n"
     ]
    }
   ],
   "source": [
    "lam=[0,0.01,0.1,1,100]\n",
    "for i in range(len(lam)):\n",
    "    theta = train(lam[i])\n",
    "    acc = performancen(theta)\n",
    "    print(\"lambda = \" + str(lam[i]) + \":\\taccuracy=\" + str(acc))"
   ]
  },
  {
   "cell_type": "markdown",
   "metadata": {},
   "source": [
    "## lamda with the best accuracy is 0.01, the best accuracy associated with it is 0.718708748349934."
   ]
  },
  {
   "cell_type": "markdown",
   "metadata": {},
   "source": [
    "# test"
   ]
  },
  {
   "cell_type": "code",
   "execution_count": 23,
   "metadata": {},
   "outputs": [
    {
     "name": "stdout",
     "output_type": "stream",
     "text": [
      "lambda = 0.01:\taccuracy=0.720662347012239\n"
     ]
    }
   ],
   "source": [
    "theta = train(lam[1])\n",
    "acc = performance(theta)\n",
    "print(\"lambda = \" + str(lam[1]) + \":\\taccuracy=\" + str(acc))"
   ]
  },
  {
   "cell_type": "markdown",
   "metadata": {},
   "source": [
    "# train"
   ]
  },
  {
   "cell_type": "code",
   "execution_count": 24,
   "metadata": {},
   "outputs": [
    {
     "name": "stdout",
     "output_type": "stream",
     "text": [
      "lambda = 0.01:\taccuracy=0.7203288131525261\n"
     ]
    }
   ],
   "source": [
    "theta = train(lam[1])\n",
    "acc = performancet(theta)\n",
    "print(\"lambda = \" + str(lam[1]) + \":\\taccuracy=\" + str(acc))"
   ]
  },
  {
   "cell_type": "markdown",
   "metadata": {},
   "source": [
    "## Using the best lamda which is 0.01, its accuracy on the train, validation and test sets are 0.7203288131525261, 0.718708748349934 and 0.720662347012239. "
   ]
  },
  {
   "cell_type": "markdown",
   "metadata": {},
   "source": [
    "# Q5"
   ]
  },
  {
   "cell_type": "code",
   "execution_count": 10,
   "metadata": {},
   "outputs": [
    {
     "name": "stdout",
     "output_type": "stream",
     "text": [
      "Collecting networkx\n",
      "  Downloading https://files.pythonhosted.org/packages/f3/f4/7e20ef40b118478191cec0b58c3192f822cace858c19505c7670961b76b2/networkx-2.2.zip (1.7MB)\n",
      "\u001b[K    100% |████████████████████████████████| 1.7MB 642kB/s \n",
      "\u001b[?25hCollecting decorator>=4.3.0 (from networkx)\n",
      "  Downloading https://files.pythonhosted.org/packages/bc/bb/a24838832ba35baf52f32ab1a49b906b5f82fb7c76b2f6a7e35e140bac30/decorator-4.3.0-py2.py3-none-any.whl\n",
      "Building wheels for collected packages: networkx\n",
      "  Running setup.py bdist_wheel for networkx ... \u001b[?25ldone\n",
      "\u001b[?25h  Stored in directory: /home/rstudio/.cache/pip/wheels/68/f8/29/b53346a112a07d30a5a84d53f19aeadaa1a474897c0423af91\n",
      "Successfully built networkx\n",
      "Installing collected packages: decorator, networkx\n",
      "Successfully installed decorator-4.3.0 networkx-2.2\n"
     ]
    }
   ],
   "source": [
    "#!pip3 install --user networkx"
   ]
  },
  {
   "cell_type": "code",
   "execution_count": 419,
   "metadata": {},
   "outputs": [],
   "source": [
    "import networkx as nx\n",
    "import matplotlib.pyplot as plt"
   ]
  },
  {
   "cell_type": "code",
   "execution_count": 420,
   "metadata": {},
   "outputs": [],
   "source": [
    "import numpy\n",
    "import urllib\n",
    "import scipy.optimize\n",
    "import random\n",
    "from sklearn.decomposition import PCA\n",
    "from collections import defaultdict"
   ]
  },
  {
   "cell_type": "code",
   "execution_count": 421,
   "metadata": {},
   "outputs": [
    {
     "data": {
      "image/png": "[encoded data removed]",
      "text/plain": [
       "<Figure size 432x288 with 1 Axes>"
      ]
     },
     "metadata": {},
     "output_type": "display_data"
    },
    {
     "data": {
      "text/plain": [
       "<Figure size 432x288 with 0 Axes>"
      ]
     },
     "metadata": {},
     "output_type": "display_data"
    }
   ],
   "source": [
    "edges = set()\n",
    "nodes = set()\n",
    "for edge in urllib.request.urlopen(\"http://jmcauley.ucsd.edu/cse255/data/facebook/egonet.txt\"):\n",
    "  x,y = edge.split()\n",
    "  x,y = int(x),int(y)\n",
    "  edges.add((x,y))\n",
    "  edges.add((y,x))\n",
    "  nodes.add(x)\n",
    "  nodes.add(y)\n",
    "\n",
    "G = nx.Graph()\n",
    "for e in edges:\n",
    "  G.add_edge(e[0],e[1])\n",
    "nx.draw(G)\n",
    "plt.show()\n",
    "plt.clf()"
   ]
  },
  {
   "cell_type": "markdown",
   "metadata": {},
   "source": [
    "# Q5 As seen in the graph, there are 3 connected components in the graph."
   ]
  },
  {
   "cell_type": "code",
   "execution_count": 422,
   "metadata": {},
   "outputs": [],
   "source": [
    "components = list(nx.connected_components(G))\n",
    "components.sort(key=len, reverse=True)\n",
    "largest = components.pop(0)"
   ]
  },
  {
   "cell_type": "code",
   "execution_count": 423,
   "metadata": {},
   "outputs": [
    {
     "data": {
      "text/plain": [
       "40"
      ]
     },
     "execution_count": 423,
     "metadata": {},
     "output_type": "execute_result"
    }
   ],
   "source": [
    "len(largest)"
   ]
  },
  {
   "cell_type": "markdown",
   "metadata": {},
   "source": [
    "# There are 40 nodes in the largest component."
   ]
  },
  {
   "cell_type": "markdown",
   "metadata": {},
   "source": [
    "# Q6"
   ]
  },
  {
   "cell_type": "code",
   "execution_count": 434,
   "metadata": {},
   "outputs": [],
   "source": [
    "largest=sorted(largest)\n",
    "mylist=list(largest)\n",
    "low=mylist[:20]\n",
    "high=mylist[20:]"
   ]
  },
  {
   "cell_type": "code",
   "execution_count": 435,
   "metadata": {},
   "outputs": [],
   "source": [
    "mylist1=list(edges)\n",
    "lowedges=[]\n",
    "highedges=[]\n",
    "for i in mylist1:\n",
    "    if i[0] in low:\n",
    "        lowedges.append(i)\n",
    "        \n",
    "for j in mylist1:\n",
    "    if j[0] in high:\n",
    "        highedges.append(j)\n",
    "newedges=lowedges+highedges"
   ]
  },
  {
   "cell_type": "code",
   "execution_count": 436,
   "metadata": {},
   "outputs": [],
   "source": [
    "Gc = nx.Graph()\n",
    "for l in newedges:\n",
    "  Gc.add_edge(l[0],l[1])"
   ]
  },
  {
   "cell_type": "code",
   "execution_count": 437,
   "metadata": {},
   "outputs": [
    {
     "name": "stdout",
     "output_type": "stream",
     "text": [
      "0.4224058769513316\n"
     ]
    }
   ],
   "source": [
    "print (nx.normalized_cut_size(Gc,high,low)/2)"
   ]
  },
  {
   "cell_type": "code",
   "execution_count": 438,
   "metadata": {},
   "outputs": [
    {
     "data": {
      "image/png": "[encoded data removed]",
      "text/plain": [
       "<Figure size 432x288 with 1 Axes>"
      ]
     },
     "metadata": {},
     "output_type": "display_data"
    },
    {
     "data": {
      "text/plain": [
       "<Figure size 432x288 with 0 Axes>"
      ]
     },
     "metadata": {},
     "output_type": "display_data"
    }
   ],
   "source": [
    "nx.draw(Gc)\n",
    "plt.show()\n",
    "plt.clf()"
   ]
  },
  {
   "cell_type": "markdown",
   "metadata": {},
   "source": [
    "# The normalized-cut cost of the 50/50 split I found above is 0.4224058769513316."
   ]
  },
  {
   "cell_type": "markdown",
   "metadata": {},
   "source": [
    "# Q7 What are the elements of the split, and what is its normalized cut cost?"
   ]
  },
  {
   "cell_type": "code",
   "execution_count": 439,
   "metadata": {},
   "outputs": [
    {
     "data": {
      "text/plain": [
       "20"
      ]
     },
     "execution_count": 439,
     "metadata": {},
     "output_type": "execute_result"
    }
   ],
   "source": [
    "len(low)"
   ]
  },
  {
   "cell_type": "code",
   "execution_count": 440,
   "metadata": {},
   "outputs": [
    {
     "data": {
      "text/plain": [
       "0.4224058769513316"
      ]
     },
     "execution_count": 440,
     "metadata": {},
     "output_type": "execute_result"
    }
   ],
   "source": [
    "current_cost=[]\n",
    "current_cost.append(nx.normalized_cut_size(Gc,low,high)/2)\n",
    "current_cost[0]"
   ]
  },
  {
   "cell_type": "code",
   "execution_count": 441,
   "metadata": {},
   "outputs": [],
   "source": [
    "def normalized_cut_cost(low,high,Gc):\n",
    "    com1=[]\n",
    "    high1=high.copy()\n",
    "    low1=low.copy()\n",
    "    high0=high.copy()\n",
    "    low0=low.copy()\n",
    "    key=[]\n",
    "    for i in range(0,len(low0)):\n",
    "        l1=low0[0]\n",
    "        key.append(l1)\n",
    "        high0.append(l1)\n",
    "        low0.remove(l1)\n",
    "        com1.append(nx.normalized_cut_size(Gc,low0,high0)/2)\n",
    "        low0.append(high0[-1])\n",
    "        high0.remove(high0[-1])\n",
    "    \n",
    "    for j in range(0,len(high1)):\n",
    "        l2=high1[0]\n",
    "        key.append(l2)\n",
    "        low1.append(l2)\n",
    "        high1.remove(l2)\n",
    "        com1.append(nx.normalized_cut_size(Gc,low1,high1)/2)\n",
    "        high1.append(low1[-1])\n",
    "        low1.remove(low1[-1])\n",
    "    \n",
    "    dic = dict(zip(key, com1))\n",
    "    m=min(com1)\n",
    "    x=com1.index(m)\n",
    "    current_cost.append(m)\n",
    "    if x<len(low):\n",
    "        high.append(low[x])\n",
    "        low.remove(low[x])\n",
    "    else:\n",
    "        low.append(high[x-len(low)])\n",
    "        high.remove(high[x+1-len(low)])\n",
    "    \n",
    "    return low,high,current_cost"
   ]
  },
  {
   "cell_type": "code",
   "execution_count": 442,
   "metadata": {},
   "outputs": [
    {
     "name": "stdout",
     "output_type": "stream",
     "text": [
      "0.09817045961624274\n",
      "[697, 703, 708, 713, 719, 745, 747, 753, 769, 772, 774, 800, 803, 805, 810, 811, 819, 828, 823, 830, 840, 880, 890, 869, 856] [825, 861, 863, 864, 876, 878, 882, 884, 886, 888, 889, 893, 729, 804, 798]\n"
     ]
    }
   ],
   "source": [
    "for n in range(20):\n",
    "    if len(current_cost) <= 1:\n",
    "        normalized_cut_cost(low,high,Gc)\n",
    "    else:\n",
    "        if current_cost[n] <= current_cost[n-1]:\n",
    "            normalized_cut_cost(low,high,Gc)\n",
    "        else:\n",
    "            print(current_cost[n-1])\n",
    "            print(low,high)\n",
    "            break"
   ]
  },
  {
   "cell_type": "code",
   "execution_count": 443,
   "metadata": {},
   "outputs": [
    {
     "data": {
      "text/plain": [
       "12"
      ]
     },
     "execution_count": 443,
     "metadata": {},
     "output_type": "execute_result"
    }
   ],
   "source": [
    "len(current_cost)"
   ]
  },
  {
   "cell_type": "code",
   "execution_count": 444,
   "metadata": {},
   "outputs": [],
   "source": [
    "low=mylist[:20]\n",
    "high=mylist[20:]\n",
    "for i in range(10):\n",
    "    if i == 10:\n",
    "        print(low,high)\n",
    "    else:\n",
    "        normalized_cut_cost(low,high,Gc)"
   ]
  },
  {
   "cell_type": "code",
   "execution_count": 445,
   "metadata": {},
   "outputs": [
    {
     "name": "stdout",
     "output_type": "stream",
     "text": [
      "[697, 703, 708, 713, 719, 745, 747, 753, 769, 772, 774, 798, 800, 803, 805, 810, 811, 819, 828, 823, 830, 840, 880, 890, 869, 856] [825, 861, 863, 864, 876, 878, 882, 884, 886, 888, 889, 893, 729, 804]\n"
     ]
    }
   ],
   "source": [
    "print(low,high)"
   ]
  },
  {
   "cell_type": "markdown",
   "metadata": {},
   "source": [
    "# The elements of the split are shown as above, the first part is the low set and the second part is the high set. The best normalized cut cost is 0.09817045961624274."
   ]
  },
  {
   "cell_type": "markdown",
   "metadata": {},
   "source": [
    "# Q8 "
   ]
  },
  {
   "cell_type": "code",
   "execution_count": 24,
   "metadata": {},
   "outputs": [],
   "source": [
    "#!pip3 install --user community\n",
    "#!pip3 install --user python-louvain"
   ]
  },
  {
   "cell_type": "code",
   "execution_count": 339,
   "metadata": {},
   "outputs": [],
   "source": [
    "largest=sorted(largest)\n",
    "mylist=list(largest)\n",
    "low=mylist[:20]\n",
    "high=mylist[20:]"
   ]
  },
  {
   "cell_type": "code",
   "execution_count": 340,
   "metadata": {},
   "outputs": [],
   "source": [
    "mylist1=list(edges)\n",
    "lowedges=[]\n",
    "highedges=[]\n",
    "for i in mylist1:\n",
    "    if i[0] in low:\n",
    "        lowedges.append(i)\n",
    "        \n",
    "for j in mylist1:\n",
    "    if j[0] in high:\n",
    "        highedges.append(j)\n",
    "newedges=lowedges+highedges"
   ]
  },
  {
   "cell_type": "code",
   "execution_count": 341,
   "metadata": {},
   "outputs": [],
   "source": [
    "Gc = nx.Graph()\n",
    "for l in newedges:\n",
    "  Gc.add_edge(l[0],l[1])"
   ]
  },
  {
   "cell_type": "code",
   "execution_count": 342,
   "metadata": {},
   "outputs": [
    {
     "data": {
      "text/plain": [
       "0.07681818181818188"
      ]
     },
     "execution_count": 342,
     "metadata": {},
     "output_type": "execute_result"
    }
   ],
   "source": [
    "current_mod=[]\n",
    "current_mod.append(nx.algorithms.community.modularity(Gc,[low,high]))\n",
    "current_mod[0]"
   ]
  },
  {
   "cell_type": "code",
   "execution_count": 343,
   "metadata": {},
   "outputs": [],
   "source": [
    "def modularity(low,high,Gc):\n",
    "    com1=[]\n",
    "    high1=high.copy()\n",
    "    low1=low.copy()\n",
    "    high0=high.copy()\n",
    "    low0=low.copy()\n",
    "    key=[]\n",
    "    for i in range(0,len(low0)):\n",
    "        l1=low0[0]\n",
    "        key.append(l1)\n",
    "        high0.append(l1)\n",
    "        low0.remove(l1)\n",
    "        com1.append(nx.algorithms.community.modularity(Gc,[low0,high0]))\n",
    "        low0.append(high0[-1])\n",
    "        high0.remove(high0[-1])\n",
    "    \n",
    "    for j in range(0,len(high1)):\n",
    "        l2=high1[0]\n",
    "        key.append(l2)\n",
    "        low1.append(l2)\n",
    "        high1.remove(l2)\n",
    "        com1.append(nx.algorithms.community.modularity(Gc,[low1,high1]))\n",
    "        high1.append(low1[-1])\n",
    "        low1.remove(low1[-1])\n",
    "    \n",
    "    dic = dict(zip(key, com1))\n",
    "    m=max(com1)\n",
    "    x=com1.index(m)\n",
    "    current_mod.append(max(com1))\n",
    "    if x<len(low):\n",
    "        high.append(low[x])\n",
    "        low.remove(low[x])\n",
    "    else:\n",
    "        low.append(high[x-len(low)])\n",
    "        high.remove(high[x+1-len(low)])\n",
    "    \n",
    "    return low,high,current_mod"
   ]
  },
  {
   "cell_type": "code",
   "execution_count": 344,
   "metadata": {},
   "outputs": [
    {
     "name": "stdout",
     "output_type": "stream",
     "text": [
      "0.33801652892561973\n"
     ]
    }
   ],
   "source": [
    "for i in range(0,20):\n",
    "    if  current_mod[i]>= current_mod[i-1]:\n",
    "        modularity(low,high,Gc)\n",
    "    else :\n",
    "        print(current_mod[i-1])\n",
    "        break"
   ]
  },
  {
   "cell_type": "markdown",
   "metadata": {},
   "source": [
    "# The modularity values for the 50/50 split I have found is 0.33801652892561973."
   ]
  }
 ],
 "metadata": {
  "kernelspec": {
   "display_name": "Python 3",
   "language": "python",
   "name": "python3"
  },
  "language_info": {
   "codemirror_mode": {
    "name": "ipython",
    "version": 3
   },
   "file_extension": ".py",
   "mimetype": "text/x-python",
   "name": "python",
   "nbconvert_exporter": "python",
   "pygments_lexer": "ipython3",
   "version": "3.6.7"
  }
 },
 "nbformat": 4,
 "nbformat_minor": 2
}
